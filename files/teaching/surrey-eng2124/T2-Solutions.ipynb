{
 "cells": [
  {
   "cell_type": "markdown",
   "id": "03134f19-b409-4b58-bc6f-eb37464b141f",
   "metadata": {},
   "source": [
    "## Example: Element-wise addition of 2 numpy arrays\n",
    "Given are 2 similar dimensional numpy arrays, get a numpy array output in which every element is an element-wise sum of the 2 numpy arrays."
   ]
  },
  {
   "cell_type": "code",
   "execution_count": 17,
   "id": "8138b576-ae24-4c59-95ee-c9916caed6d2",
   "metadata": {},
   "outputs": [
    {
     "name": "stdout",
     "output_type": "stream",
     "text": [
      "[[11 13 15]\n",
      " [17 19 21]]\n"
     ]
    }
   ],
   "source": [
    "import numpy as np\n",
    "\n",
    "a1 = np.array([[1,2,3],\n",
    "              [4,5,6]])\n",
    "\n",
    "a2 = np.array([[10,11,12],\n",
    "              [13,14,15]])\n",
    "\n",
    "### Start your code here ###\n",
    "\n",
    "b = a1 + a2\n",
    "print(b)\n",
    "\n",
    "### End your code here ###"
   ]
  },
  {
   "cell_type": "markdown",
   "id": "ca149926-d17c-4aca-b276-b7fb0947753c",
   "metadata": {},
   "source": [
    "# Questions\n",
    "Hint:\n",
    "\n",
    "- Write **your code** between two comment lines: ```### Start/End your code here ###```\n",
    "- **Expected output** is shown at the end of each question. "
   ]
  },
  {
   "cell_type": "markdown",
   "id": "7240169b-3539-4899-80e9-3e44ede3614e",
   "metadata": {},
   "source": [
    "## Create a 2D array\n",
    "- Create a 5X2 integer array from a range between 100 to 200 such that the difference between each element is 10.\n",
    "- Print the array and its shape.\n",
    "\n",
    "Hint:\n",
    "\n",
    "- Use ``np.arange`` and ``reshape``."
   ]
  },
  {
   "cell_type": "code",
   "execution_count": 67,
   "id": "7808e2ef-320d-4d41-af92-34793620bc1b",
   "metadata": {},
   "outputs": [
    {
     "name": "stdout",
     "output_type": "stream",
     "text": [
      "[[100 110]\n",
      " [120 130]\n",
      " [140 150]\n",
      " [160 170]\n",
      " [180 190]]\n",
      "(5, 2)\n"
     ]
    }
   ],
   "source": [
    "import numpy as np\n",
    "\n",
    "### Start your code here ###\n",
    "\n",
    "a = np.arange(100, 200, 10)\n",
    "b = a.reshape(5,2)\n",
    "print(b)\n",
    "print(b.shape)\n",
    "\n",
    "### End your code here ###"
   ]
  },
  {
   "cell_type": "markdown",
   "id": "9714fb04-7902-42a3-87fc-494aba18b2f5",
   "metadata": {},
   "source": [
    "## Reverse an 1D array\n",
    "Write a function to reverse an array (first element becomes last)."
   ]
  },
  {
   "cell_type": "code",
   "execution_count": 34,
   "id": "4a1fc1f4-5660-4569-8e08-38293d5914bd",
   "metadata": {},
   "outputs": [
    {
     "name": "stdout",
     "output_type": "stream",
     "text": [
      "Original array:\n",
      "[ 1  2  5 10 15 86]\n",
      "Reverse array:\n",
      "[86 15 10  5  2  1]\n"
     ]
    }
   ],
   "source": [
    "import numpy as np\n",
    "\n",
    "print(\"Original array:\")\n",
    "a = np.array([1, 2, 5, 10, 15, 86])\n",
    "print(a)\n",
    "\n",
    "print(\"Reverse array:\")\n",
    "### Start your code here ###\n",
    "\n",
    "b = a[::-1]\n",
    "print(b)\n",
    "\n",
    "### End your code here ###\n"
   ]
  },
  {
   "cell_type": "markdown",
   "id": "cf550f40-e357-4e16-b922-a945fe9896e3",
   "metadata": {
    "tags": []
   },
   "source": [
    "## Multiply a 2D array by a scalar\n",
    "Given a 2D array (matrix), get a numpy array output which is equal to the original matrix multiplied by 2."
   ]
  },
  {
   "cell_type": "code",
   "execution_count": 19,
   "id": "a342443b-e14b-4838-905e-18d4ad55bb39",
   "metadata": {},
   "outputs": [
    {
     "name": "stdout",
     "output_type": "stream",
     "text": [
      "[[ 2  4  6]\n",
      " [ 8 10 12]]\n"
     ]
    }
   ],
   "source": [
    "import numpy as np\n",
    "\n",
    "a = np.array([[1,2,3],\n",
    "              [4,5,6]])\n",
    "\n",
    "### Start your code here ###\n",
    "\n",
    "# multiplying the numpy array a(matrix) by 2\n",
    "b = 2*a \n",
    "print(b)\n",
    "\n",
    "### End your code here ###"
   ]
  },
  {
   "cell_type": "markdown",
   "id": "9e4802ca-1456-409f-81fd-760043f2e97b",
   "metadata": {},
   "source": [
    "## Horizontal stacking of numpy arrays\n",
    "- Stack 2 numpy arrays horizontally i.e., 2 arrays having the same 1st dimension (number of rows in 2D arrays).\n",
    "- Print the array and its shape."
   ]
  },
  {
   "cell_type": "code",
   "execution_count": 66,
   "id": "c3f137ad-2059-489b-8bc1-178274a77ce7",
   "metadata": {},
   "outputs": [
    {
     "name": "stdout",
     "output_type": "stream",
     "text": [
      "[[ 1  2  3  7  8  9]\n",
      " [ 4  5  6 10 11 12]]\n",
      "(2, 6)\n"
     ]
    }
   ],
   "source": [
    "import numpy as np\n",
    "\n",
    "a1 = np.array([[1,2,3],\n",
    "               [4,5,6]])\n",
    "\n",
    "a2 = np.array([[7,8,9],\n",
    "               [10,11,12]])\n",
    "\n",
    "### Start your code here ###\n",
    "\n",
    "b = np.hstack((a1, a2))\n",
    "print(b)\n",
    "print(b.shape)\n",
    "\n",
    "### End your code here ###"
   ]
  },
  {
   "cell_type": "markdown",
   "id": "6d14748f-964f-4e11-b9ec-1d0f6871b4c6",
   "metadata": {},
   "source": [
    "## Vertically stacking of numpy arrays\n",
    "- Stack 2 numpy arrays vertically i.e., 2 arrays having the same last dimension (number of columns in 2D arrays).\n",
    "- Print the array and its shape."
   ]
  },
  {
   "cell_type": "code",
   "execution_count": 65,
   "id": "d1cce49f-3e33-4f5c-b4b7-65c065dda201",
   "metadata": {},
   "outputs": [
    {
     "name": "stdout",
     "output_type": "stream",
     "text": [
      "[[ 1  2]\n",
      " [ 3  4]\n",
      " [ 5  6]\n",
      " [ 7  8]\n",
      " [ 9 10]\n",
      " [10 11]]\n",
      "(6, 2)\n"
     ]
    }
   ],
   "source": [
    "import numpy as np\n",
    "\n",
    "a1 = np.array([[1,2],\n",
    "               [3,4],\n",
    "               [5,6]])\n",
    "\n",
    "a2 = np.array([[7,8],\n",
    "               [9,10],\n",
    "               [10,11]])\n",
    "\n",
    "### Start your code here ###\n",
    "\n",
    "b = np.vstack((a1, a2))\n",
    "print(b)\n",
    "print(b.shape)\n",
    "\n",
    "### End your code here ###"
   ]
  },
  {
   "cell_type": "markdown",
   "id": "9e72c779-1057-486c-b7d8-4090527c3aa9",
   "metadata": {},
   "source": [
    "## Convert the values of Centigrade degrees into Fahrenheit degrees\n",
    "\n",
    "Convert the values of Centigrade degrees ($C$) into Fahrenheit degrees ($F$). Values are stored in a numpy array and rounded to 2 decimal places.\n",
    "\n",
    "$$F=9*\\frac{C}{5} + 32$$"
   ]
  },
  {
   "cell_type": "code",
   "execution_count": 58,
   "id": "14c7214c-afd6-4da5-80da-79572ae89ad2",
   "metadata": {},
   "outputs": [
    {
     "name": "stdout",
     "output_type": "stream",
     "text": [
      "Values in Centigrade degrees:\n",
      "[-27.79 -11.12   7.34   1.16  37.73   0.7 ]\n",
      "Values in  Fahrenheit degrees:\n",
      "[-18.02  11.98  45.21  34.09  99.91  33.26]\n"
     ]
    }
   ],
   "source": [
    "import numpy as np\n",
    "C = np.array([-27.79, -11.12, 7.34, 1.16, 37.73, 0.70])\n",
    "print(\"Values in Centigrade degrees:\")\n",
    "print(C)\n",
    "\n",
    "print(\"Values in  Fahrenheit degrees:\")\n",
    "\n",
    "### Start your code here ###\n",
    "\n",
    "F = np.round((9*C/5 + 32), 2)\n",
    "print(F)\n",
    "\n",
    "### End your code here ###"
   ]
  },
  {
   "cell_type": "markdown",
   "id": "e76d27e9-18d9-42fc-87d2-203f6b62b361",
   "metadata": {},
   "source": [
    "## Print max from axis 0 and min from axis 1 from the a 2D array\n",
    "Hint:\n",
    "\n",
    "- Use ``np.amax`` and ``np.amin``."
   ]
  },
  {
   "cell_type": "code",
   "execution_count": 59,
   "id": "160c7916-d3a6-4593-a210-264a5f281d80",
   "metadata": {},
   "outputs": [
    {
     "name": "stdout",
     "output_type": "stream",
     "text": [
      "Original array:\n",
      "[[34 43 73]\n",
      " [82 22 12]\n",
      " [53 94 66]\n",
      " [23 45 79]]\n",
      "Max along axis 0:\n",
      "[82 94 79]\n",
      "Min along axis 1:\n",
      "[34 12 53 23]\n"
     ]
    }
   ],
   "source": [
    "import numpy as np\n",
    "\n",
    "print(\"Original array:\")\n",
    "a = np.array([[34, 43, 73], [82, 22, 12], [53, 94, 66], [23, 45, 79]]) \n",
    "print (a)\n",
    "\n",
    "### Start your code here ###\n",
    "\n",
    "print(\"Max along axis 0:\")\n",
    "b = np.amax(a, axis=0) \n",
    "print(b)\n",
    "\n",
    "print(\"Min along axis 1:\")\n",
    "c = np.amin(a, axis=1) \n",
    "print(c)\n",
    "\n",
    "### End your code here ###"
   ]
  },
  {
   "cell_type": "markdown",
   "id": "46b94889-34e6-4e64-af0e-140f83cae35a",
   "metadata": {},
   "source": [
    "## Select elements from a numpy array which are divisible by 3"
   ]
  },
  {
   "cell_type": "code",
   "execution_count": 60,
   "id": "6caf1f68-7616-4fed-8502-8c6c52906ce2",
   "metadata": {},
   "outputs": [
    {
     "name": "stdout",
     "output_type": "stream",
     "text": [
      "Original array:\n",
      "[ 5  7  9 11 13 15 17 19 21 23 25 27 29]\n",
      "Output array:\n",
      "[ 9 15 21 27]\n"
     ]
    }
   ],
   "source": [
    "import numpy as np\n",
    "\n",
    "print(\"Original array:\")\n",
    "a = np.array([5, 7, 9, 11, 13, 15, 17, 19, 21, 23, 25, 27, 29])\n",
    "print(a)\n",
    "\n",
    "print(\"Output array:\")\n",
    "### Start your code here ###\n",
    "\n",
    "b = a[a%3==0]\n",
    "print(b)\n",
    "\n",
    "### End your code here ###"
   ]
  },
  {
   "cell_type": "markdown",
   "id": "a1f68710-055d-418b-8616-8cbe2be0093e",
   "metadata": {},
   "source": [
    "## Select elements from a numpy array which are greater than 5 and less than 20"
   ]
  },
  {
   "cell_type": "code",
   "execution_count": 63,
   "id": "08ebb669-1746-488e-b708-62df7a338e00",
   "metadata": {},
   "outputs": [
    {
     "name": "stdout",
     "output_type": "stream",
     "text": [
      "Original array:\n",
      "[ 5  7  9 11 13 15 17 19 21 23 25 27 29]\n",
      "Output array:\n",
      "[ 7  9 11 13 15 17 19]\n"
     ]
    }
   ],
   "source": [
    "import numpy as np\n",
    "\n",
    "print(\"Original array:\")\n",
    "a = np.array([5, 7, 9, 11, 13, 15, 17, 19, 21, 23, 25, 27, 29])\n",
    "print(a)\n",
    "\n",
    "print(\"Output array:\")\n",
    "### Start your code here ###\n",
    "\n",
    "b = a[(a > 5) & (a < 20)]\n",
    "print(b)\n",
    "\n",
    "### End your code here ###"
   ]
  },
  {
   "cell_type": "markdown",
   "id": "e570c3eb-6983-42be-996b-264e6561df7d",
   "metadata": {},
   "source": [
    "## Add, Subtract, Divide and Multiply 2D arrays\n",
    "Hint:\n",
    "\n",
    "- Use ``np.add``, ``np.subtract``, ``np.divide``, ``np.multiply``."
   ]
  },
  {
   "cell_type": "code",
   "execution_count": 62,
   "id": "cfa36634-2839-49d4-97d0-374350dcd5aa",
   "metadata": {},
   "outputs": [
    {
     "name": "stdout",
     "output_type": "stream",
     "text": [
      "Addition of two arrays:\n",
      "[[30 40]\n",
      " [50 60]]\n",
      "Subtraction of two arrays:\n",
      "[[-20 -20]\n",
      " [-20 -20]]\n",
      "Division of two arrays:\n",
      "[[0.2        0.33333333]\n",
      " [0.42857143 0.5       ]]\n",
      "Multiplication of two arrays:\n",
      "[[125 300]\n",
      " [525 800]]\n"
     ]
    }
   ],
   "source": [
    "import numpy as np\n",
    "\n",
    "a1 = np.array([[5, 10], [15, 20]])\n",
    "a2 = np.array([[25, 30], [35, 40]])\n",
    "\n",
    "### Start your code here ###\n",
    "\n",
    "print (\"Addition of two arrays:\")\n",
    "print (np.add(a1, a2))\n",
    "\n",
    "print (\"Subtraction of two arrays:\")\n",
    "print (np.subtract(a1, a2))\n",
    "\n",
    "print (\"Division of two arrays:\")\n",
    "print (np.divide(a1, a2))\n",
    "\n",
    "print (\"Multiplication of two arrays:\")\n",
    "print (np.multiply(a1, a2))\n",
    "\n",
    "### End your code here ###"
   ]
  }
 ],
 "metadata": {
  "kernelspec": {
   "display_name": "Python 3 (ipykernel)",
   "language": "python",
   "name": "python3"
  },
  "language_info": {
   "codemirror_mode": {
    "name": "ipython",
    "version": 3
   },
   "file_extension": ".py",
   "mimetype": "text/x-python",
   "name": "python",
   "nbconvert_exporter": "python",
   "pygments_lexer": "ipython3",
   "version": "3.8.13"
  }
 },
 "nbformat": 4,
 "nbformat_minor": 5
}
