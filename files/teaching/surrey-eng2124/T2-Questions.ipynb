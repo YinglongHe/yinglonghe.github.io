{
 "cells": [
  {
   "cell_type": "markdown",
   "id": "03134f19-b409-4b58-bc6f-eb37464b141f",
   "metadata": {},
   "source": [
    "## Example: Element-wise addition of 2 NumPy arrays\n",
    "Given are 2 NumPy arrays with the same shape, return a new array, in which every element is an element-wise sum of the 2 arrays."
   ]
  },
  {
   "cell_type": "code",
   "execution_count": 1,
   "id": "04901f0a-3888-4982-954e-bbe604ee17e8",
   "metadata": {},
   "outputs": [
    {
     "name": "stdout",
     "output_type": "stream",
     "text": [
      "[[11 13 15]\n",
      " [17 19 21]]\n"
     ]
    }
   ],
   "source": [
    "import numpy as np\n",
    "\n",
    "a1 = np.array([[1,2,3],\n",
    "              [4,5,6]])\n",
    "\n",
    "a2 = np.array([[10,11,12],\n",
    "              [13,14,15]])\n",
    "\n",
    "### Start your code here ###\n",
    "\n",
    "b = a1 + a2\n",
    "print(b)\n",
    "\n",
    "### End your code here ###"
   ]
  },
  {
   "cell_type": "markdown",
   "id": "ca149926-d17c-4aca-b276-b7fb0947753c",
   "metadata": {},
   "source": [
    "# Questions\n",
    "Hint:\n",
    "\n",
    "- Write **your code** between two comment lines: ```### Start/End your code here ###```.\n",
    "- **Expected output** is shown at the end of each question (directly below the code cell). "
   ]
  },
  {
   "cell_type": "markdown",
   "id": "7240169b-3539-4899-80e9-3e44ede3614e",
   "metadata": {},
   "source": [
    "## Create a 2D NumPy array\n",
    "- Create a 5x2 integer array from a range between 100 and 200 such that the difference between each element is 10.\n",
    "- Print the array and its shape.\n",
    "\n",
    "Hint:\n",
    "\n",
    "- Use NumPy ``arange()`` and ``reshape()``."
   ]
  },
  {
   "cell_type": "code",
   "execution_count": 2,
   "id": "7808e2ef-320d-4d41-af92-34793620bc1b",
   "metadata": {},
   "outputs": [
    {
     "name": "stdout",
     "output_type": "stream",
     "text": [
      "The array is:\n",
      "[[100 110]\n",
      " [120 130]\n",
      " [140 150]\n",
      " [160 170]\n",
      " [180 190]]\n",
      "Its shape is: \n",
      "(5, 2)\n"
     ]
    }
   ],
   "source": [
    "import numpy as np\n",
    "\n",
    "### Start your code here ###\n",
    "\n",
    "\n",
    "\n",
    "### End your code here ###"
   ]
  },
  {
   "cell_type": "markdown",
   "id": "9714fb04-7902-42a3-87fc-494aba18b2f5",
   "metadata": {},
   "source": [
    "## Reverse a 1D array\n",
    "Write a function to reverse an array (the first element becomes the last)."
   ]
  },
  {
   "cell_type": "code",
   "execution_count": 3,
   "id": "4a1fc1f4-5660-4569-8e08-38293d5914bd",
   "metadata": {},
   "outputs": [
    {
     "name": "stdout",
     "output_type": "stream",
     "text": [
      "Original array:\n",
      "[ 1  2  5 10 15 86]\n",
      "Reverse array:\n",
      "[86 15 10  5  2  1]\n"
     ]
    }
   ],
   "source": [
    "import numpy as np\n",
    "\n",
    "print(\"Original array:\")\n",
    "a = np.array([1, 2, 5, 10, 15, 86])\n",
    "print(a)\n",
    "\n",
    "print(\"Reverse array:\")\n",
    "\n",
    "### Start your code here ###\n",
    "\n",
    "\n",
    "\n",
    "### End your code here ###\n"
   ]
  },
  {
   "cell_type": "markdown",
   "id": "cf550f40-e357-4e16-b922-a945fe9896e3",
   "metadata": {
    "tags": []
   },
   "source": [
    "## Multiply a 2D array by a scalar\n",
    "Given a 2D array (matrix), return an array, which is equal to the original matrix multiplied by 2."
   ]
  },
  {
   "cell_type": "code",
   "execution_count": 4,
   "id": "a342443b-e14b-4838-905e-18d4ad55bb39",
   "metadata": {},
   "outputs": [
    {
     "name": "stdout",
     "output_type": "stream",
     "text": [
      "[[ 2  4  6]\n",
      " [ 8 10 12]]\n"
     ]
    }
   ],
   "source": [
    "import numpy as np\n",
    "\n",
    "a = np.array([[1,2,3],\n",
    "              [4,5,6]])\n",
    "\n",
    "### Start your code here ###\n",
    "\n",
    "\n",
    "\n",
    "### End your code here ###"
   ]
  },
  {
   "cell_type": "markdown",
   "id": "9e4802ca-1456-409f-81fd-760043f2e97b",
   "metadata": {},
   "source": [
    "## Horizontal stacking of NumPy arrays\n",
    "- Stack 2 NumPy arrays horizontally i.e., 2 arrays having the same 1st dimension (number of rows in 2D arrays).\n",
    "- Print the array and its shape."
   ]
  },
  {
   "cell_type": "code",
   "execution_count": 5,
   "id": "c3f137ad-2059-489b-8bc1-178274a77ce7",
   "metadata": {},
   "outputs": [
    {
     "name": "stdout",
     "output_type": "stream",
     "text": [
      "The stacked array is: \n",
      "[[ 1  2  3  7  8  9]\n",
      " [ 4  5  6 10 11 12]]\n",
      "Its shape is: \n",
      "(2, 6)\n"
     ]
    }
   ],
   "source": [
    "import numpy as np\n",
    "\n",
    "a1 = np.array([[1,2,3],\n",
    "               [4,5,6]])\n",
    "\n",
    "a2 = np.array([[7,8,9],\n",
    "               [10,11,12]])\n",
    "\n",
    "### Start your code here ###\n",
    "\n",
    "\n",
    "\n",
    "### End your code here ###"
   ]
  },
  {
   "cell_type": "markdown",
   "id": "6d14748f-964f-4e11-b9ec-1d0f6871b4c6",
   "metadata": {},
   "source": [
    "## Vertically stacking of NumPy arrays\n",
    "- Stack 2 NumPy arrays vertically i.e., 2 arrays having the same last dimension (number of columns in 2D arrays).\n",
    "- Print the array and its shape."
   ]
  },
  {
   "cell_type": "code",
   "execution_count": 6,
   "id": "d1cce49f-3e33-4f5c-b4b7-65c065dda201",
   "metadata": {},
   "outputs": [
    {
     "name": "stdout",
     "output_type": "stream",
     "text": [
      "The stacked array is: \n",
      "[[ 1  2]\n",
      " [ 3  4]\n",
      " [ 5  6]\n",
      " [ 7  8]\n",
      " [ 9 10]\n",
      " [10 11]]\n",
      "Its shape is: \n",
      "(6, 2)\n"
     ]
    }
   ],
   "source": [
    "import numpy as np\n",
    "\n",
    "a1 = np.array([[1,2],\n",
    "               [3,4],\n",
    "               [5,6]])\n",
    "\n",
    "a2 = np.array([[7,8],\n",
    "               [9,10],\n",
    "               [10,11]])\n",
    "\n",
    "### Start your code here ###\n",
    "\n",
    "\n",
    "\n",
    "### End your code here ###"
   ]
  },
  {
   "cell_type": "markdown",
   "id": "9e72c779-1057-486c-b7d8-4090527c3aa9",
   "metadata": {},
   "source": [
    "## Convert the values of Celsius degrees into Fahrenheit degrees\n",
    "\n",
    "Convert the values of Celsius degrees ($C$) into Fahrenheit degrees ($F$). Values are stored in a NumPy array and rounded to 2 decimal places.\n",
    "\n",
    "$$F=9*\\frac{C}{5} + 32$$"
   ]
  },
  {
   "cell_type": "code",
   "execution_count": 7,
   "id": "14c7214c-afd6-4da5-80da-79572ae89ad2",
   "metadata": {},
   "outputs": [
    {
     "name": "stdout",
     "output_type": "stream",
     "text": [
      "Values in Centigrade degrees:\n",
      "[-27.79 -11.12   7.34   1.16  37.73   0.7 ]\n",
      "Values in  Fahrenheit degrees:\n",
      "[-18.02  11.98  45.21  34.09  99.91  33.26]\n"
     ]
    }
   ],
   "source": [
    "import numpy as np\n",
    "C = np.array([-27.79, -11.12, 7.34, 1.16, 37.73, 0.70])\n",
    "print(\"Values in Centigrade degrees:\")\n",
    "print(C)\n",
    "\n",
    "print(\"Values in  Fahrenheit degrees:\")\n",
    "\n",
    "### Start your code here ###\n",
    "\n",
    "\n",
    "\n",
    "### End your code here ###"
   ]
  },
  {
   "cell_type": "markdown",
   "id": "e76d27e9-18d9-42fc-87d2-203f6b62b361",
   "metadata": {},
   "source": [
    "## Print max from axis 0 and min from axis 1 from a 2D array\n",
    "Hint:\n",
    "\n",
    "- Use NumPy ``amax()`` and ``amin()``."
   ]
  },
  {
   "cell_type": "code",
   "execution_count": 8,
   "id": "160c7916-d3a6-4593-a210-264a5f281d80",
   "metadata": {},
   "outputs": [
    {
     "name": "stdout",
     "output_type": "stream",
     "text": [
      "Original array:\n",
      "[[34 43 73]\n",
      " [82 22 12]\n",
      " [53 94 66]\n",
      " [23 45 79]]\n",
      "Max along axis 0:\n",
      "[82 94 79]\n",
      "Min along axis 1:\n",
      "[34 12 53 23]\n"
     ]
    }
   ],
   "source": [
    "import numpy as np\n",
    "\n",
    "print(\"Original array:\")\n",
    "a = np.array([[34, 43, 73], [82, 22, 12], [53, 94, 66], [23, 45, 79]]) \n",
    "print(a)\n",
    "\n",
    "### Start your code here ###\n",
    "\n",
    "\n",
    "\n",
    "### End your code here ###"
   ]
  },
  {
   "cell_type": "markdown",
   "id": "46b94889-34e6-4e64-af0e-140f83cae35a",
   "metadata": {
    "tags": []
   },
   "source": [
    "## Select elements from a NumPy array which are divisible by 3"
   ]
  },
  {
   "cell_type": "code",
   "execution_count": 9,
   "id": "6caf1f68-7616-4fed-8502-8c6c52906ce2",
   "metadata": {},
   "outputs": [
    {
     "name": "stdout",
     "output_type": "stream",
     "text": [
      "Original array:\n",
      "[ 5  7  9 11 13 15 17 19 21 23 25 27 29]\n",
      "Output array:\n",
      "[ 9 15 21 27]\n"
     ]
    }
   ],
   "source": [
    "import numpy as np\n",
    "\n",
    "print(\"Original array:\")\n",
    "a = np.array([5, 7, 9, 11, 13, 15, 17, 19, 21, 23, 25, 27, 29])\n",
    "print(a)\n",
    "\n",
    "print(\"Output array:\")\n",
    "\n",
    "### Start your code here ###\n",
    "\n",
    "\n",
    "\n",
    "### End your code here ###"
   ]
  },
  {
   "cell_type": "markdown",
   "id": "a1f68710-055d-418b-8616-8cbe2be0093e",
   "metadata": {},
   "source": [
    "## Select elements from a NumPy array which are greater than 5 and less than 20"
   ]
  },
  {
   "cell_type": "code",
   "execution_count": 10,
   "id": "08ebb669-1746-488e-b708-62df7a338e00",
   "metadata": {},
   "outputs": [
    {
     "name": "stdout",
     "output_type": "stream",
     "text": [
      "Original array:\n",
      "[ 5  7  9 11 13 15 17 19 21 23 25 27 29]\n",
      "Output array:\n",
      "[ 7  9 11 13 15 17 19]\n"
     ]
    }
   ],
   "source": [
    "import numpy as np\n",
    "\n",
    "print(\"Original array:\")\n",
    "a = np.array([5, 7, 9, 11, 13, 15, 17, 19, 21, 23, 25, 27, 29])\n",
    "print(a)\n",
    "\n",
    "print(\"Output array:\")\n",
    "\n",
    "### Start your code here ###\n",
    "\n",
    "\n",
    "\n",
    "### End your code here ###"
   ]
  },
  {
   "cell_type": "markdown",
   "id": "e570c3eb-6983-42be-996b-264e6561df7d",
   "metadata": {},
   "source": [
    "## Add, subtract, divide, and multiply 2D arrays\n",
    "Hint:\n",
    "\n",
    "- Use NumPy ``add()``, ``subtract()``, ``divide()``, ``multiply()``."
   ]
  },
  {
   "cell_type": "code",
   "execution_count": 11,
   "id": "cfa36634-2839-49d4-97d0-374350dcd5aa",
   "metadata": {},
   "outputs": [
    {
     "name": "stdout",
     "output_type": "stream",
     "text": [
      "Addition of two arrays:\n",
      "[[30 40]\n",
      " [50 60]]\n",
      "Subtraction of two arrays:\n",
      "[[-20 -20]\n",
      " [-20 -20]]\n",
      "Division of two arrays:\n",
      "[[0.2        0.33333333]\n",
      " [0.42857143 0.5       ]]\n",
      "Multiplication of two arrays:\n",
      "[[125 300]\n",
      " [525 800]]\n"
     ]
    }
   ],
   "source": [
    "import numpy as np\n",
    "\n",
    "a1 = np.array([[5, 10], [15, 20]])\n",
    "a2 = np.array([[25, 30], [35, 40]])\n",
    "\n",
    "### Start your code here ###\n",
    "\n",
    "\n",
    "\n",
    "### End your code here ###"
   ]
  }
 ],
 "metadata": {
  "kernelspec": {
   "display_name": "Python 3 (ipykernel)",
   "language": "python",
   "name": "python3"
  },
  "language_info": {
   "codemirror_mode": {
    "name": "ipython",
    "version": 3
   },
   "file_extension": ".py",
   "mimetype": "text/x-python",
   "name": "python",
   "nbconvert_exporter": "python",
   "pygments_lexer": "ipython3",
   "version": "3.8.13"
  }
 },
 "nbformat": 4,
 "nbformat_minor": 5
}
