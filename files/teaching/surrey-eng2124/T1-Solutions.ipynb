{
 "cells": [
  {
   "cell_type": "markdown",
   "id": "08f261f6-6a5b-4ab7-b2c7-40b1faa0ab3d",
   "metadata": {
    "tags": []
   },
   "source": [
    "## Example: Calculate the multiplication and sum of two numbers\n",
    "Given two integer numbers return their product only if the product is equal to or lower than 1000, else return their sum.\n",
    "\n",
    "Hint: \n",
    "\n",
    "- Create a function that will take two numbers as parameters.\n",
    "- Next, inside the function, multiply two numbers and save their product in a ``product`` variable.\n",
    "- Next, use the if condition to check if the ``product > 1000``. If yes, return the ``product``.\n",
    "- Otherwise, use the ``else`` block to calculate the sum of two numbers and return it."
   ]
  },
  {
   "cell_type": "code",
   "execution_count": 1,
   "id": "a91cf280-605a-4073-a3d7-1a1b3c48064b",
   "metadata": {},
   "outputs": [
    {
     "name": "stdout",
     "output_type": "stream",
     "text": [
      "The result is 600\n",
      "The result is 70\n"
     ]
    }
   ],
   "source": [
    "def multiplication_or_sum(num1, num2):\n",
    "    ### Start your code here ###\n",
    "    \n",
    "    product = num1 * num2\n",
    "    if product <= 1000:\n",
    "        return product\n",
    "    else:\n",
    "        return num1 + num2\n",
    "    \n",
    "    ### End your code here ###\n",
    "\n",
    "# first condition\n",
    "result = multiplication_or_sum(20, 30)\n",
    "print(\"The result is\", result)\n",
    "\n",
    "# second condition\n",
    "result = multiplication_or_sum(40, 30)\n",
    "print(\"The result is\", result)"
   ]
  },
  {
   "cell_type": "markdown",
   "id": "5de48420-3138-4cdc-b29e-da9962ca7f68",
   "metadata": {},
   "source": [
    "# Questions\n",
    "Hint:\n",
    "\n",
    "- Write **your code** between two comment lines: ```### Start/End your code here ###```.\n",
    "- **Expected output** is shown at the end of each question. "
   ]
  },
  {
   "cell_type": "markdown",
   "id": "df6d2e39-7913-411b-a464-6a36848d0fa2",
   "metadata": {
    "tags": []
   },
   "source": [
    "## Find the largest item from a given list\n",
    "Hint:\n",
    "\n",
    "- Use the built-in function ``max()`` to get the largest number from a list."
   ]
  },
  {
   "cell_type": "code",
   "execution_count": 2,
   "id": "c8f02a0b-72ff-4ca5-87df-5480b6f47c94",
   "metadata": {},
   "outputs": [
    {
     "name": "stdout",
     "output_type": "stream",
     "text": [
      "24\n"
     ]
    }
   ],
   "source": [
    "x = [4, 6, 8, 24, 12, 2]\n",
    "### Start your code here ###\n",
    "\n",
    "print(max(x))\n",
    "\n",
    "### End your code here ###"
   ]
  },
  {
   "cell_type": "markdown",
   "id": "7a5d4582-cc0a-4b66-98b5-eccb8297de75",
   "metadata": {
    "tags": []
   },
   "source": [
    "## Return multiple values from a function\n",
    "Write a program to create function ``calculation()`` such that it can accept two variables and calculate addition and subtraction. Also, it must return both addition and subtraction in a single return call.\n",
    "\n",
    "Hint: \n",
    "\n",
    "- Separate return values with a comma."
   ]
  },
  {
   "cell_type": "code",
   "execution_count": 3,
   "id": "cae6d287-b664-44df-a9d6-35f33afcdc51",
   "metadata": {},
   "outputs": [
    {
     "name": "stdout",
     "output_type": "stream",
     "text": [
      "(50, 30)\n"
     ]
    }
   ],
   "source": [
    "def calculation(a, b):\n",
    "    ### Start your code here ###\n",
    "    \n",
    "    addition = a + b\n",
    "    subtraction = a - b\n",
    "    # return multiple values separated by comma\n",
    "    return addition, subtraction\n",
    "\n",
    "    ### End your code here ###\n",
    "\n",
    "# get result in tuple format\n",
    "res = calculation(40, 10)\n",
    "print(res)"
   ]
  },
  {
   "cell_type": "markdown",
   "id": "9719be30-7a68-43be-9713-1c2f4ae50eb6",
   "metadata": {
    "tags": []
   },
   "source": [
    "## Print the sum of the current number and the previous number\n",
    "Write a program to iterate the first 10 numbers and in each iteration, print the sum of the current and previous number.\n",
    "\n",
    "Hint: \n",
    "\n",
    "- Create a variable called ``previous_num`` and assign it to 0.\n",
    "- Iterate the first 10 numbers one by one using for loop and range() function.\n",
    "- Next, display the current number (``i``), previous number, and the addition of both numbers in each iteration of the loop. At last, change the value previous number to current number (``previous_num = i``)."
   ]
  },
  {
   "cell_type": "code",
   "execution_count": 4,
   "id": "f9dfa6ba-628b-4408-a49b-2d72e82e694a",
   "metadata": {},
   "outputs": [
    {
     "name": "stdout",
     "output_type": "stream",
     "text": [
      "Printing current and previous number and their sum in a range(10)\n",
      "Current Number 1 Previous Number  0  Sum:  1\n",
      "Current Number 2 Previous Number  1  Sum:  3\n",
      "Current Number 3 Previous Number  2  Sum:  5\n",
      "Current Number 4 Previous Number  3  Sum:  7\n",
      "Current Number 5 Previous Number  4  Sum:  9\n",
      "Current Number 6 Previous Number  5  Sum:  11\n",
      "Current Number 7 Previous Number  6  Sum:  13\n",
      "Current Number 8 Previous Number  7  Sum:  15\n",
      "Current Number 9 Previous Number  8  Sum:  17\n",
      "Current Number 10 Previous Number  9  Sum:  19\n"
     ]
    }
   ],
   "source": [
    "print(\"Printing current and previous number and their sum in a range(10)\")\n",
    "previous_num = 0\n",
    "\n",
    "for i in range(1, 11):\n",
    "    ### Start your code here ###\n",
    "\n",
    "    x_sum = previous_num + i\n",
    "    print(\"Current Number\", i, \"Previous Number \", previous_num, \" Sum: \", x_sum)\n",
    "    # modify previous number\n",
    "    # set it to the current number\n",
    "    previous_num = i\n",
    "    \n",
    "    ### End your code here ###"
   ]
  },
  {
   "cell_type": "markdown",
   "id": "04b75b33-501e-4813-88af-dd4cf3f4756e",
   "metadata": {
    "tags": []
   },
   "source": [
    "## Display numbers divisible by 5 from a list\n",
    "Iterate the given list of numbers and print only those numbers which are divisible by 5."
   ]
  },
  {
   "cell_type": "code",
   "execution_count": 5,
   "id": "3ec805aa-322e-4e0b-a234-a1013163cbb2",
   "metadata": {},
   "outputs": [
    {
     "name": "stdout",
     "output_type": "stream",
     "text": [
      "Given list: [10, 20, 33, 46, 55]\n",
      "Divisible by 5:\n",
      "10\n",
      "20\n",
      "55\n"
     ]
    }
   ],
   "source": [
    "num_list = [10, 20, 33, 46, 55]\n",
    "print(\"Given list:\", num_list)\n",
    "print('Divisible by 5:')\n",
    "\n",
    "### Start your code here ###\n",
    "\n",
    "for num in num_list:\n",
    "    if num % 5 == 0:\n",
    "        print(num)\n",
    "        \n",
    "### End your code here ###"
   ]
  },
  {
   "cell_type": "markdown",
   "id": "11bb4e24-a842-4bb6-b600-294b4e04e0ba",
   "metadata": {
    "tags": []
   },
   "source": [
    "## Check if the first and last number of a list is the same\n",
    "Write a function to return ``True`` if the first and last number of a given list is same. If numbers are different then return ``False``."
   ]
  },
  {
   "cell_type": "code",
   "execution_count": 6,
   "id": "3288af03-2c29-46c0-b90b-23536ae1bb55",
   "metadata": {},
   "outputs": [
    {
     "name": "stdout",
     "output_type": "stream",
     "text": [
      "Given list: [10, 20, 30, 40, 10]\n",
      "result is True\n",
      "Given list: [75, 65, 35, 75, 30]\n",
      "result is False\n"
     ]
    }
   ],
   "source": [
    "def first_last_same(numberList):\n",
    "    print(\"Given list:\", numberList)\n",
    "    \n",
    "    ### Start your code here ###\n",
    "    \n",
    "    first_num = numberList[0]\n",
    "    last_num = numberList[-1]\n",
    "    \n",
    "    if first_num == last_num:\n",
    "        return True\n",
    "    else:\n",
    "        return False\n",
    "    \n",
    "    ### End your code here ###\n",
    "\n",
    "numbers_x = [10, 20, 30, 40, 10]\n",
    "print(\"result is\", first_last_same(numbers_x))\n",
    "\n",
    "numbers_y = [75, 65, 35, 75, 30]\n",
    "print(\"result is\", first_last_same(numbers_y))"
   ]
  },
  {
   "cell_type": "markdown",
   "id": "9c427e40-d385-4de2-b4d3-b456e60c6e11",
   "metadata": {
    "tags": []
   },
   "source": [
    "## Create a new list from a two list using the following condition\n",
    "Given a two list of numbers, write a program to create a new list such that the new list should contain odd numbers from the first list and even numbers from the second list.\n",
    "\n",
    "Hint: \n",
    "\n",
    "- Create an empty list named ``result_list``.\n",
    "- Iterate first list using a for loop.\n",
    "- In each iteration, check if the current number is odd number using ``num % 2 != 0`` formula. If the current number is an odd number, add it to the result list.\n",
    "- Now, Iterate the first list using a loop.\n",
    "- In each iteration, check if the current number is odd number using ``num % 2 == 0`` formula. If the current number is an even number, add it to the result list."
   ]
  },
  {
   "cell_type": "code",
   "execution_count": 7,
   "id": "14b50a87-541a-43b4-b32c-1801fa184472",
   "metadata": {},
   "outputs": [
    {
     "name": "stdout",
     "output_type": "stream",
     "text": [
      "result list: [25, 35, 40, 60, 90]\n"
     ]
    }
   ],
   "source": [
    "def merge_list(list1, list2):\n",
    "    result_list = []\n",
    "    \n",
    "    ### Start your code here ###\n",
    "    \n",
    "    # iterate first list\n",
    "    for num in list1:\n",
    "        # check if current number is odd\n",
    "        if num % 2 != 0:\n",
    "            # add odd number to result list\n",
    "            result_list.append(num)\n",
    "    \n",
    "    # iterate second list\n",
    "    for num in list2:\n",
    "        # check if current number is even\n",
    "        if num % 2 == 0:\n",
    "            # add even number to result list\n",
    "            result_list.append(num)\n",
    "    return result_list\n",
    "\n",
    "    ### End your code here ###\n",
    "\n",
    "list1 = [10, 20, 25, 30, 35]\n",
    "list2 = [40, 45, 60, 75, 90]\n",
    "print(\"result list:\", merge_list(list1, list2))"
   ]
  },
  {
   "cell_type": "markdown",
   "id": "06d1c37d-1bc1-431c-9217-a7681f21d5d9",
   "metadata": {},
   "source": [
    "## Remove first ``n`` characters from a string\n",
    "Write a program to remove characters from a string starting from zero up to ``n`` and return a new string.\n",
    "For example:\n",
    "\n",
    "- ``remove_chars(\"pynative\", 4)`` so output must be ``tive``. Here we need to remove first four characters from a string.\n",
    "- ``remove_chars(\"pynative\", 2)`` so output must be ``native``. Here we need to remove first two characters from a string.\n",
    "\n",
    "Hint:\n",
    "- Use string slicing to get the substring. For example, to remove the first four characters and the remeaning use ``s[4:]``."
   ]
  },
  {
   "cell_type": "code",
   "execution_count": 8,
   "id": "7aff016d-16f3-402f-b8d1-8be915e9a7a7",
   "metadata": {},
   "outputs": [
    {
     "name": "stdout",
     "output_type": "stream",
     "text": [
      "Removing characters from a string\n",
      "Original string: pynative\n",
      "tive\n",
      "Original string: pynative\n",
      "native\n"
     ]
    }
   ],
   "source": [
    "def remove_chars(word, n):\n",
    "    ### Start your code here ###\n",
    "    \n",
    "    print('Original string:', word)\n",
    "    x = word[n:]\n",
    "    return x\n",
    "\n",
    "    ### End your code here ###\n",
    "\n",
    "print(\"Removing characters from a string\")\n",
    "print(remove_chars(\"pynative\", 4))\n",
    "print(remove_chars(\"pynative\", 2))"
   ]
  },
  {
   "cell_type": "markdown",
   "id": "0df79399-308a-492c-ac21-9d4f7d967d13",
   "metadata": {},
   "source": [
    "## Calculate income tax for the given income by adhering to the below rules\n",
    "\n",
    "| Taxable Income | Rate (in \\%) |\n",
    "|-|-|\n",
    "| First \\$10,000 | 0  |\n",
    "| Next \\$10,000  | 10 |\n",
    "| The remaining | 20 |\n",
    "\n",
    "Example:\n",
    "\n",
    "- Suppose the taxable income is 45000 the income tax payable is ``10000*0% + 10000*10%  + 25000*20% = $6000``."
   ]
  },
  {
   "cell_type": "code",
   "execution_count": 9,
   "id": "227fd1e9-658f-4614-812b-3c08d5ea3eda",
   "metadata": {},
   "outputs": [
    {
     "name": "stdout",
     "output_type": "stream",
     "text": [
      "Given income 45000\n",
      "Total tax to pay is 6000.0\n"
     ]
    }
   ],
   "source": [
    "income = 45000\n",
    "print(\"Given income\", income)\n",
    "\n",
    "tax_payable = 0\n",
    "\n",
    "### Start your code here ###\n",
    "\n",
    "if income <= 10000:\n",
    "    tax_payable = 0\n",
    "elif income <= 20000:\n",
    "    # no tax on first 10,000\n",
    "    x = income - 10000\n",
    "    # 10% tax\n",
    "    tax_payable = x * 10 / 100\n",
    "else:\n",
    "    # first 10,000\n",
    "    tax_payable = 0\n",
    "\n",
    "    # next 10,000 10% tax\n",
    "    tax_payable = 10000 * 10 / 100\n",
    "\n",
    "    # remaining 20%tax\n",
    "    tax_payable += (income - 20000) * 20 / 100\n",
    "    \n",
    "### End your code here ###\n",
    "\n",
    "print(\"Total tax to pay is\", tax_payable)"
   ]
  },
  {
   "cell_type": "markdown",
   "id": "76746ea8-30b1-44ac-b04a-1ab8d7fc2960",
   "metadata": {},
   "source": [
    "## Count the occurrence of each element from a list\n",
    "Write a program to iterate a given list and count the occurrence of each element and create a dictionary to show the count of each element."
   ]
  },
  {
   "cell_type": "code",
   "execution_count": 10,
   "id": "4176d1e2-bf2f-411b-9984-dd7ecd3f9413",
   "metadata": {},
   "outputs": [
    {
     "name": "stdout",
     "output_type": "stream",
     "text": [
      "Original list  [11, 45, 8, 11, 23, 45, 23, 45, 89]\n",
      "Printing count of each item   {11: 2, 45: 3, 8: 1, 23: 2, 89: 1}\n"
     ]
    }
   ],
   "source": [
    "sample_list = [11, 45, 8, 11, 23, 45, 23, 45, 89]\n",
    "print(\"Original list \", sample_list)\n",
    "\n",
    "count_dict = dict()\n",
    "\n",
    "### Start your code here ###\n",
    "\n",
    "for item in sample_list:\n",
    "    if item in count_dict:\n",
    "        count_dict[item] += 1\n",
    "    else:\n",
    "        count_dict[item] = 1\n",
    "\n",
    "### End your code here ###\n",
    "        \n",
    "print(\"Printing count of each item  \", count_dict)"
   ]
  },
  {
   "cell_type": "markdown",
   "id": "9f488512-32bc-426a-a51e-74c6c09db2af",
   "metadata": {},
   "source": [
    "## Append new string in the middle of a given string\n",
    "Given two strings, ``s1`` and ``s2``. Write a program to create a new string ``s3`` by appending ``s2`` in the middle of ``s1``.\n",
    "\n",
    "Hint:\n",
    "\n",
    "- Use built-in function ``len(s1)`` to get the string length.\n",
    "- Next, get the middle index number by dividing string length by 2."
   ]
  },
  {
   "cell_type": "code",
   "execution_count": 2,
   "id": "41e34499-ba01-4913-98d4-66b80710c199",
   "metadata": {},
   "outputs": [
    {
     "name": "stdout",
     "output_type": "stream",
     "text": [
      "Original Strings are: Ault Kelly\n",
      "After appending new string in middle: AuKellylt\n"
     ]
    }
   ],
   "source": [
    "def append_middle(s1, s2):\n",
    "    print(\"Original Strings are:\", s1, s2)\n",
    "    \n",
    "    ### Start your code here ###\n",
    "    \n",
    "    # middle index number of s1\n",
    "    mi = int(len(s1) / 2)\n",
    "\n",
    "    # get character from 0 to the middle index number from s1\n",
    "    x = s1[:mi:]\n",
    "    # concatenate s2 to it\n",
    "    x = x + s2\n",
    "    # append remaining character from s1\n",
    "    x = x + s1[mi:]\n",
    "    print(\"After appending new string in middle:\", x)\n",
    "    \n",
    "    ### End your code here ###\n",
    "\n",
    "append_middle(\"Ault\", \"Kelly\")"
   ]
  },
  {
   "cell_type": "code",
   "execution_count": null,
   "id": "070dd7f5-211a-499c-b070-02af4a010163",
   "metadata": {},
   "outputs": [],
   "source": []
  }
 ],
 "metadata": {
  "kernelspec": {
   "display_name": "Python 3 (ipykernel)",
   "language": "python",
   "name": "python3"
  },
  "language_info": {
   "codemirror_mode": {
    "name": "ipython",
    "version": 3
   },
   "file_extension": ".py",
   "mimetype": "text/x-python",
   "name": "python",
   "nbconvert_exporter": "python",
   "pygments_lexer": "ipython3",
   "version": "3.8.13"
  }
 },
 "nbformat": 4,
 "nbformat_minor": 5
}
